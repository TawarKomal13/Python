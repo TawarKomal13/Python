{
 "cells": [
  {
   "cell_type": "markdown",
   "id": "2b4c0588",
   "metadata": {},
   "source": [
    "# autocsting"
   ]
  },
  {
   "cell_type": "code",
   "execution_count": 1,
   "id": "d01a3004",
   "metadata": {},
   "outputs": [],
   "source": [
    "price = 3.1\n",
    "quantity = 2\n",
    "print(type(price))\n",
    "print(type(quantity))\n",
    "amount = price * quantity\n",
    "print(amount)\n",
    "type(amount)\n",
    "price = int(price)\n",
    "quantity = int(quantity)\n",
    "amount = price* quantity\n",
    "print(amount)\n",
    "type(amount)\n",
    "\n",
    "\n"
   ]
  },
  {
   "cell_type": "code",
   "execution_count": 2,
   "id": "733a9638",
   "metadata": {},
   "outputs": [
    {
     "name": "stdout",
     "output_type": "stream",
     "text": [
      "<class 'float'>\n"
     ]
    }
   ],
   "source": [
    "print(type(price))"
   ]
  },
  {
   "cell_type": "code",
   "execution_count": 3,
   "id": "921cbac2",
   "metadata": {},
   "outputs": [
    {
     "name": "stdout",
     "output_type": "stream",
     "text": [
      "<class 'int'>\n"
     ]
    }
   ],
   "source": [
    "print(type(quantity))"
   ]
  },
  {
   "cell_type": "code",
   "execution_count": 4,
   "id": "58346dfb",
   "metadata": {},
   "outputs": [],
   "source": [
    "amount = price * quantity"
   ]
  },
  {
   "cell_type": "code",
   "execution_count": 5,
   "id": "b9f523e9",
   "metadata": {},
   "outputs": [
    {
     "name": "stdout",
     "output_type": "stream",
     "text": [
      "6.2\n"
     ]
    }
   ],
   "source": [
    "print(amount)"
   ]
  },
  {
   "cell_type": "code",
   "execution_count": 6,
   "id": "cd203d75",
   "metadata": {},
   "outputs": [
    {
     "data": {
      "text/plain": [
       "float"
      ]
     },
     "execution_count": 6,
     "metadata": {},
     "output_type": "execute_result"
    }
   ],
   "source": [
    "type(amount)"
   ]
  },
  {
   "cell_type": "code",
   "execution_count": 7,
   "id": "7b36ac83",
   "metadata": {},
   "outputs": [],
   "source": [
    "price = int(price)"
   ]
  },
  {
   "cell_type": "code",
   "execution_count": 8,
   "id": "9bd93779",
   "metadata": {},
   "outputs": [],
   "source": [
    "quantity = int(quantity)"
   ]
  },
  {
   "cell_type": "code",
   "execution_count": 9,
   "id": "1747c1d8",
   "metadata": {},
   "outputs": [],
   "source": [
    "amount = price* quantity"
   ]
  },
  {
   "cell_type": "code",
   "execution_count": 10,
   "id": "75f8e073",
   "metadata": {},
   "outputs": [
    {
     "data": {
      "text/plain": [
       "6"
      ]
     },
     "execution_count": 10,
     "metadata": {},
     "output_type": "execute_result"
    }
   ],
   "source": [
    "amount"
   ]
  },
  {
   "cell_type": "code",
   "execution_count": 11,
   "id": "6daa8668",
   "metadata": {},
   "outputs": [
    {
     "data": {
      "text/plain": [
       "int"
      ]
     },
     "execution_count": 11,
     "metadata": {},
     "output_type": "execute_result"
    }
   ],
   "source": [
    "type(amount)"
   ]
  },
  {
   "cell_type": "markdown",
   "id": "791ad48d",
   "metadata": {},
   "source": [
    "# control statements\n",
    "1. decision making\n",
    "2. repetition"
   ]
  },
  {
   "cell_type": "code",
   "execution_count": 12,
   "id": "0e91c813",
   "metadata": {},
   "outputs": [
    {
     "name": "stdout",
     "output_type": "stream",
     "text": [
      "5 is a positive number.\n",
      "this is always printed.\n"
     ]
    }
   ],
   "source": [
    "# simple basic loop\n",
    "num = 5\n",
    "if num > 0:\n",
    "    print(num, \"is a positive number.\")\n",
    "print(\"this is always printed.\")"
   ]
  },
  {
   "cell_type": "code",
   "execution_count": 13,
   "id": "2d0ef0d2",
   "metadata": {},
   "outputs": [
    {
     "name": "stdout",
     "output_type": "stream",
     "text": [
      "positiive or zero\n",
      "this is always printed\n"
     ]
    }
   ],
   "source": [
    "# if else loop\n",
    "num = 4\n",
    "if num>=0:\n",
    "    print(\"positiive or zero\")\n",
    "else:\n",
    "    print(\"negative number\")\n",
    "print(\"this is always printed\")"
   ]
  },
  {
   "cell_type": "code",
   "execution_count": 14,
   "id": "832182da",
   "metadata": {},
   "outputs": [
    {
     "name": "stdout",
     "output_type": "stream",
     "text": [
      "positive number\n"
     ]
    }
   ],
   "source": [
    "# if elif elif\n",
    "num = 5 \n",
    "if num>0:\n",
    "    print(\"positive number\")\n",
    "elif num == 0:\n",
    "    print(\"zero\")\n",
    "else:\n",
    "    print(\"negative number\")"
   ]
  },
  {
   "cell_type": "code",
   "execution_count": 15,
   "id": "0fcebd6f",
   "metadata": {},
   "outputs": [
    {
     "name": "stdout",
     "output_type": "stream",
     "text": [
      "zero\n"
     ]
    }
   ],
   "source": [
    "num = 0 \n",
    "if num>0:\n",
    "    print(\"positive number\")\n",
    "elif num == 0:\n",
    "    print(\"zero\")\n",
    "else:\n",
    "    print(\"negative number\")"
   ]
  },
  {
   "cell_type": "code",
   "execution_count": 16,
   "id": "4f57498b",
   "metadata": {},
   "outputs": [
    {
     "name": "stdout",
     "output_type": "stream",
     "text": [
      "negative number\n"
     ]
    }
   ],
   "source": [
    "num = -5 \n",
    "if num>0:\n",
    "    print(\"positive number\")\n",
    "elif num == 0:\n",
    "    print(\"zero\")\n",
    "else:\n",
    "    print(\"negative number\")"
   ]
  },
  {
   "cell_type": "markdown",
   "id": "66e707d1",
   "metadata": {},
   "source": [
    "# explicit typecasting???"
   ]
  },
  {
   "cell_type": "code",
   "execution_count": 18,
   "id": "f3f54171",
   "metadata": {},
   "outputs": [
    {
     "name": "stdout",
     "output_type": "stream",
     "text": [
      "ENter a number 5\n",
      "positive number\n"
     ]
    }
   ],
   "source": [
    "# nested if else\n",
    "\n",
    "num = int(input(\"ENter a number \"))\n",
    "if num >=0:\n",
    "    if num == 0:\n",
    "        print(\"zero\")\n",
    "    else:\n",
    "        print(\"positive number\")\n",
    "else:\n",
    "    print(\"negative number\")"
   ]
  },
  {
   "cell_type": "markdown",
   "id": "8f2643d7",
   "metadata": {},
   "source": [
    "for loop contains the number of iterations which are going to execute\n",
    "\n",
    "while loop stops when the contion comes to true\n",
    "\n",
    "for loop stops at the initial condition give for execution\n",
    "\n",
    "while loop stops when condition comes to execution"
   ]
  },
  {
   "cell_type": "code",
   "execution_count": 19,
   "id": "db388089",
   "metadata": {},
   "outputs": [
    {
     "name": "stdout",
     "output_type": "stream",
     "text": [
      "0\n",
      "1\n",
      "2\n",
      "3\n",
      "4\n"
     ]
    }
   ],
   "source": [
    "# while loop\n",
    "count = 0\n",
    "while count < 5:\n",
    "    print(count)\n",
    "    count +=1"
   ]
  },
  {
   "cell_type": "markdown",
   "id": "637d6f16",
   "metadata": {},
   "source": [
    "in \"while true\" loop the condition itself is true so it directly enters in the loop with no condition ans prints the number then execute the whatever situation comes"
   ]
  },
  {
   "cell_type": "code",
   "execution_count": 20,
   "id": "dad12c20",
   "metadata": {},
   "outputs": [
    {
     "name": "stdout",
     "output_type": "stream",
     "text": [
      "0\n",
      "1\n",
      "2\n",
      "3\n",
      "4\n"
     ]
    }
   ],
   "source": [
    "count = 0    \n",
    "while True:\n",
    "    print(count)\n",
    "    count += 1\n",
    "    if count >=5:\n",
    "        break"
   ]
  },
  {
   "cell_type": "code",
   "execution_count": 21,
   "id": "c340925c",
   "metadata": {},
   "outputs": [
    {
     "name": "stdout",
     "output_type": "stream",
     "text": [
      "1\n",
      "2\n",
      "3\n",
      "4\n"
     ]
    }
   ],
   "source": [
    "count = 1    \n",
    "while True:\n",
    "    print(count)\n",
    "    count += 1\n",
    "    if count >=5:\n",
    "        break"
   ]
  },
  {
   "cell_type": "code",
   "execution_count": 25,
   "id": "57b31f04",
   "metadata": {},
   "outputs": [
    {
     "name": "stdout",
     "output_type": "stream",
     "text": [
      "0\n",
      "1\n",
      "2\n",
      "3\n",
      "4\n",
      "5\n",
      "6\n",
      "7\n",
      "8\n",
      "9\n"
     ]
    }
   ],
   "source": [
    "for i in range(0,10):\n",
    "    print(i)\n",
    "\n",
    "    \n"
   ]
  },
  {
   "cell_type": "code",
   "execution_count": 23,
   "id": "79d1e95d",
   "metadata": {},
   "outputs": [
    {
     "name": "stdout",
     "output_type": "stream",
     "text": [
      "3\n",
      "4\n",
      "5\n"
     ]
    }
   ],
   "source": [
    "for i in range(3,6):\n",
    "    print(i)"
   ]
  },
  {
   "cell_type": "code",
   "execution_count": 24,
   "id": "e8a11079",
   "metadata": {},
   "outputs": [
    {
     "name": "stdout",
     "output_type": "stream",
     "text": [
      "3\n",
      "5\n",
      "7\n",
      "9\n"
     ]
    }
   ],
   "source": [
    "for i in range(3,10,2):\n",
    "    print(i)"
   ]
  },
  {
   "cell_type": "code",
   "execution_count": 27,
   "id": "7dd92608",
   "metadata": {},
   "outputs": [
    {
     "name": "stdout",
     "output_type": "stream",
     "text": [
      "6\n",
      "11\n",
      "14\n",
      "22\n",
      "26\n",
      "28\n",
      "33\n",
      "37\n",
      "48\n",
      "48\n"
     ]
    }
   ],
   "source": [
    "numbers = [6,5,3,8,4,2,5,4,11]\n",
    " \n",
    "sum1=0\n",
    "for val in numbers:\n",
    "    sum1 = sum1+val\n",
    "    print(sum1)\n",
    "print(sum1)"
   ]
  },
  {
   "cell_type": "markdown",
   "id": "76aa3b6f",
   "metadata": {},
   "source": [
    "# advanced datatypes\n",
    "\n",
    "1. in built data types\n",
    "\n",
    "premitive data types --> int, floats, string, booleans\n",
    "\n",
    "non premitive or advanced data types --> List, tuple, sets, dictionaries\n",
    "\n",
    "2. library based data types --> ndArray(numpy), DataFrame(pandas)\n",
    "\n"
   ]
  },
  {
   "cell_type": "markdown",
   "id": "5c54cbc7",
   "metadata": {},
   "source": [
    "# list\n",
    "\n",
    "1. homogenous lists --> one type of datatypes\n",
    "2. heterogeneous lists --> multiple type of datatypes"
   ]
  },
  {
   "cell_type": "markdown",
   "id": "29c8c9bd",
   "metadata": {},
   "source": [
    "# properties of list\n",
    "\n",
    "1. indexing\n",
    "2. allows duplicates\n",
    "3. ordered\n",
    "4. allows slicing\n",
    "5. allows updating elements or changable"
   ]
  },
  {
   "cell_type": "code",
   "execution_count": 28,
   "id": "8cfd4d1d",
   "metadata": {},
   "outputs": [],
   "source": [
    "names=[\"k\",\"o\",\"m\",\"l\"]"
   ]
  },
  {
   "cell_type": "code",
   "execution_count": 29,
   "id": "abdc30be",
   "metadata": {},
   "outputs": [
    {
     "data": {
      "text/plain": [
       "['k', 'o']"
      ]
     },
     "execution_count": 29,
     "metadata": {},
     "output_type": "execute_result"
    }
   ],
   "source": [
    "names[0:2]"
   ]
  },
  {
   "cell_type": "code",
   "execution_count": 30,
   "id": "924a4dbc",
   "metadata": {},
   "outputs": [
    {
     "data": {
      "text/plain": [
       "['k', 'o', 'm', 'l']"
      ]
     },
     "execution_count": 30,
     "metadata": {},
     "output_type": "execute_result"
    }
   ],
   "source": [
    "names[:]"
   ]
  },
  {
   "cell_type": "code",
   "execution_count": 31,
   "id": "dbbee5f5",
   "metadata": {},
   "outputs": [
    {
     "data": {
      "text/plain": [
       "['m', 'l']"
      ]
     },
     "execution_count": 31,
     "metadata": {},
     "output_type": "execute_result"
    }
   ],
   "source": [
    "names[-2:]"
   ]
  },
  {
   "cell_type": "code",
   "execution_count": 32,
   "id": "9ffaabad",
   "metadata": {},
   "outputs": [
    {
     "data": {
      "text/plain": [
       "['l']"
      ]
     },
     "execution_count": 32,
     "metadata": {},
     "output_type": "execute_result"
    }
   ],
   "source": [
    "names[-1:]"
   ]
  },
  {
   "cell_type": "code",
   "execution_count": 33,
   "id": "4b4228e4",
   "metadata": {},
   "outputs": [
    {
     "data": {
      "text/plain": [
       "['k']"
      ]
     },
     "execution_count": 33,
     "metadata": {},
     "output_type": "execute_result"
    }
   ],
   "source": [
    "names[:-3]"
   ]
  },
  {
   "cell_type": "markdown",
   "id": "5e3374c4",
   "metadata": {},
   "source": [
    "# tuples\n",
    "\n",
    "## properties of tuples\n",
    "\n",
    "1. indexed\n",
    "2. allows duplicates\n",
    "3. allows slicing\n",
    "4. do not allows updating  values"
   ]
  },
  {
   "cell_type": "markdown",
   "id": "ae450da4",
   "metadata": {},
   "source": [
    "# sets\n",
    "\n",
    "## properties of sets\n",
    "1. unindexed\n",
    "2. no duplicates\n",
    "3. unordered\n",
    "4. slicing not allowed\n",
    "5. "
   ]
  },
  {
   "cell_type": "markdown",
   "id": "150b5e17",
   "metadata": {},
   "source": [
    "# Distionary\n",
    "## properties of dictionary\n",
    "1. ordered\n",
    "2. changeable\n",
    "3. does not allow duplicates\n",
    "4. key value pair\n",
    "5.{}\n"
   ]
  },
  {
   "cell_type": "markdown",
   "id": "49538791",
   "metadata": {},
   "source": [
    "# homework\n",
    "\n",
    "muteable and immutable difference"
   ]
  },
  {
   "cell_type": "code",
   "execution_count": 34,
   "id": "f68664c5",
   "metadata": {},
   "outputs": [],
   "source": [
    "data = []"
   ]
  },
  {
   "cell_type": "code",
   "execution_count": 35,
   "id": "68fe8c78",
   "metadata": {},
   "outputs": [],
   "source": [
    "data = [1,2,3]"
   ]
  },
  {
   "cell_type": "code",
   "execution_count": 36,
   "id": "e35b345d",
   "metadata": {},
   "outputs": [],
   "source": [
    "data = [1,\"hello\",3,4,3,4,True,\"True\"]"
   ]
  },
  {
   "cell_type": "markdown",
   "id": "56f77efa",
   "metadata": {},
   "source": [
    "# methods in list\n",
    "\n",
    "method --> \n",
    "1. append() = it adds ds/element towords the end of the list\n",
    "2. extend() = it adds elements individually towords the end of the list\n",
    "\n"
   ]
  },
  {
   "cell_type": "code",
   "execution_count": 37,
   "id": "8dde894d",
   "metadata": {},
   "outputs": [],
   "source": [
    "data1 = [1,2,3,[4,5,'str'],True,\"True\"]"
   ]
  },
  {
   "cell_type": "code",
   "execution_count": 38,
   "id": "61e4b4d1",
   "metadata": {},
   "outputs": [
    {
     "data": {
      "text/plain": [
       "['physics', 'chemistry']"
      ]
     },
     "execution_count": 38,
     "metadata": {},
     "output_type": "execute_result"
    }
   ],
   "source": [
    "data = [\"physics\", 'chemistry', 1997,2000]\n",
    "new_data=[1,2,3,4]\n",
    "data[1]\n",
    "new_data[0:2]\n",
    "data[-4]\n",
    "data[-1]\n",
    "data[:]\n",
    "data[-2:]\n",
    "data[1:]\n",
    "data[-1:-1]\n",
    "data[:-2]"
   ]
  },
  {
   "cell_type": "code",
   "execution_count": 39,
   "id": "7da1fd3a",
   "metadata": {},
   "outputs": [],
   "source": [
    "\n",
    "data1 = [1,2,3,[4,5,\"str\"],7,8]\n",
    "data1[3][0]\n",
    "data1[3][2]=\"STR\""
   ]
  },
  {
   "cell_type": "code",
   "execution_count": 40,
   "id": "564591e6",
   "metadata": {},
   "outputs": [],
   "source": [
    "data = [123, \"xyz\", \"def\", \"abc\"]\n"
   ]
  },
  {
   "cell_type": "code",
   "execution_count": 41,
   "id": "f9224fe8",
   "metadata": {},
   "outputs": [],
   "source": [
    "data.append(2009)"
   ]
  },
  {
   "cell_type": "code",
   "execution_count": 42,
   "id": "0722a73b",
   "metadata": {},
   "outputs": [
    {
     "data": {
      "text/plain": [
       "[123, 'xyz', 'def', 'abc', 2009]"
      ]
     },
     "execution_count": 42,
     "metadata": {},
     "output_type": "execute_result"
    }
   ],
   "source": [
    "data"
   ]
  },
  {
   "cell_type": "code",
   "execution_count": 43,
   "id": "e22faf75",
   "metadata": {},
   "outputs": [],
   "source": [
    "data.append(data1)"
   ]
  },
  {
   "cell_type": "code",
   "execution_count": 44,
   "id": "416732e5",
   "metadata": {},
   "outputs": [
    {
     "data": {
      "text/plain": [
       "[123, 'xyz', 'def', 'abc', 2009, [1, 2, 3, [4, 5, 'STR'], 7, 8]]"
      ]
     },
     "execution_count": 44,
     "metadata": {},
     "output_type": "execute_result"
    }
   ],
   "source": [
    "data"
   ]
  },
  {
   "cell_type": "code",
   "execution_count": 45,
   "id": "a1ad7961",
   "metadata": {},
   "outputs": [],
   "source": [
    "new_data=[1,2,3,4,5]"
   ]
  },
  {
   "cell_type": "code",
   "execution_count": 46,
   "id": "faa14727",
   "metadata": {},
   "outputs": [],
   "source": [
    "new_data.extend(data1)"
   ]
  },
  {
   "cell_type": "code",
   "execution_count": 47,
   "id": "ba567c51",
   "metadata": {},
   "outputs": [
    {
     "data": {
      "text/plain": [
       "[1, 2, 3, 4, 5, 1, 2, 3, [4, 5, 'STR'], 7, 8]"
      ]
     },
     "execution_count": 47,
     "metadata": {},
     "output_type": "execute_result"
    }
   ],
   "source": [
    "new_data"
   ]
  },
  {
   "cell_type": "code",
   "execution_count": 48,
   "id": "12dd9032",
   "metadata": {},
   "outputs": [],
   "source": [
    "Data = [\"physics\", \"chemestry\", 1997,2000]"
   ]
  },
  {
   "cell_type": "code",
   "execution_count": 49,
   "id": "26e7c0a2",
   "metadata": {},
   "outputs": [],
   "source": [
    "del Data[0]"
   ]
  },
  {
   "cell_type": "code",
   "execution_count": 50,
   "id": "e466e083",
   "metadata": {},
   "outputs": [
    {
     "name": "stdout",
     "output_type": "stream",
     "text": [
      "['chemestry', 1997, 2000]\n"
     ]
    }
   ],
   "source": [
    "print(Data)"
   ]
  },
  {
   "cell_type": "code",
   "execution_count": null,
   "id": "974a40b3",
   "metadata": {},
   "outputs": [],
   "source": [
    "Data = Data[0:2]"
   ]
  },
  {
   "cell_type": "code",
   "execution_count": 53,
   "id": "1a823a96",
   "metadata": {},
   "outputs": [],
   "source": [
    "Data = Data[0:2]"
   ]
  },
  {
   "cell_type": "code",
   "execution_count": 54,
   "id": "994b0ad8",
   "metadata": {},
   "outputs": [
    {
     "data": {
      "text/plain": [
       "[1997, 2000]"
      ]
     },
     "execution_count": 54,
     "metadata": {},
     "output_type": "execute_result"
    }
   ],
   "source": [
    "Data"
   ]
  },
  {
   "cell_type": "code",
   "execution_count": 55,
   "id": "f2a6eab8",
   "metadata": {},
   "outputs": [],
   "source": [
    "Data = Data[:-1]"
   ]
  },
  {
   "cell_type": "code",
   "execution_count": 56,
   "id": "251af96e",
   "metadata": {},
   "outputs": [
    {
     "data": {
      "text/plain": [
       "[1997]"
      ]
     },
     "execution_count": 56,
     "metadata": {},
     "output_type": "execute_result"
    }
   ],
   "source": [
    "Data"
   ]
  },
  {
   "cell_type": "code",
   "execution_count": 57,
   "id": "85c5da2f",
   "metadata": {},
   "outputs": [],
   "source": [
    "data = Data[1:]"
   ]
  },
  {
   "cell_type": "code",
   "execution_count": 58,
   "id": "f0260b03",
   "metadata": {},
   "outputs": [
    {
     "data": {
      "text/plain": [
       "[]"
      ]
     },
     "execution_count": 58,
     "metadata": {},
     "output_type": "execute_result"
    }
   ],
   "source": [
    "data "
   ]
  },
  {
   "cell_type": "code",
   "execution_count": 59,
   "id": "57418cda",
   "metadata": {},
   "outputs": [],
   "source": [
    "data = data[:-1]"
   ]
  },
  {
   "cell_type": "code",
   "execution_count": 60,
   "id": "6773e09c",
   "metadata": {},
   "outputs": [],
   "source": [
    "data = data[1:-1]"
   ]
  },
  {
   "cell_type": "code",
   "execution_count": null,
   "id": "0f5a6353",
   "metadata": {},
   "outputs": [],
   "source": []
  }
 ],
 "metadata": {
  "kernelspec": {
   "display_name": "Python 3 (ipykernel)",
   "language": "python",
   "name": "python3"
  },
  "language_info": {
   "codemirror_mode": {
    "name": "ipython",
    "version": 3
   },
   "file_extension": ".py",
   "mimetype": "text/x-python",
   "name": "python",
   "nbconvert_exporter": "python",
   "pygments_lexer": "ipython3",
   "version": "3.9.13"
  }
 },
 "nbformat": 4,
 "nbformat_minor": 5
}
