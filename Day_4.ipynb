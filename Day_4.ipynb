{
 "cells": [
  {
   "cell_type": "markdown",
   "id": "c8ecd915",
   "metadata": {},
   "source": [
    "# Function"
   ]
  },
  {
   "cell_type": "code",
   "execution_count": 1,
   "id": "e688a2c2",
   "metadata": {},
   "outputs": [
    {
     "data": {
      "text/plain": [
       "6"
      ]
     },
     "execution_count": 1,
     "metadata": {},
     "output_type": "execute_result"
    }
   ],
   "source": [
    "def sumall(x,y,z):\n",
    "    sum = x+y+z\n",
    "    return sum\n",
    "sumall(1,2,3)"
   ]
  },
  {
   "cell_type": "code",
   "execution_count": 2,
   "id": "979d72c6",
   "metadata": {},
   "outputs": [
    {
     "name": "stdout",
     "output_type": "stream",
     "text": [
      "test1\n",
      "test2\n"
     ]
    }
   ],
   "source": [
    "def printThis(strTest, strtest2):\n",
    "    \"This prints a passes string into this function\"\n",
    "    print(strTest)\n",
    "    print(strtest2)\n",
    "printThis(\"test1\",\"test2\")"
   ]
  },
  {
   "cell_type": "code",
   "execution_count": 3,
   "id": "aa0c1e2b",
   "metadata": {},
   "outputs": [
    {
     "name": "stdout",
     "output_type": "stream",
     "text": [
      "a\n"
     ]
    }
   ],
   "source": [
    "def printThis(strTest):\n",
    "    \"This prints a passed string into this function\"\n",
    "    print(strTest)\n",
    "    return strTest\n",
    "\n",
    "a=printThis(\"a\")"
   ]
  },
  {
   "cell_type": "code",
   "execution_count": 4,
   "id": "012823de",
   "metadata": {},
   "outputs": [
    {
     "name": "stdout",
     "output_type": "stream",
     "text": [
      "Name:  55\n",
      "age:  Cyrus\n"
     ]
    }
   ],
   "source": [
    "def printInfo(name, age):\n",
    "    \"this prints a passed info into this function\"\n",
    "    print(\"Name: \", name)\n",
    "    print(\"age: \", age)\n",
    "    return;\n",
    "printInfo(55, \"Cyrus\")"
   ]
  },
  {
   "cell_type": "code",
   "execution_count": 5,
   "id": "09b9bb50",
   "metadata": {},
   "outputs": [
    {
     "name": "stdout",
     "output_type": "stream",
     "text": [
      "Name:  Cyrus\n",
      "age:  55\n"
     ]
    }
   ],
   "source": [
    "def printInfo(name, age):\n",
    "    \"this prints a passed info into this function\"\n",
    "    print(\"Name: \", name)\n",
    "    print(\"age: \", age)\n",
    "    return;\n",
    "printInfo(age=55, name=\"Cyrus\")"
   ]
  },
  {
   "cell_type": "code",
   "execution_count": 6,
   "id": "f5eb49a2",
   "metadata": {},
   "outputs": [
    {
     "name": "stdout",
     "output_type": "stream",
     "text": [
      "Output is: \n",
      "10\n",
      "70 80 60 40 100 test\n"
     ]
    }
   ],
   "source": [
    "def printInfo(arg1, *argList):\n",
    "    print(\"Output is: \",)\n",
    "    print(arg1)\n",
    "    for i in argList:\n",
    "        print(var)\n",
    "    return\n",
    "a=printInfo(10)\n",
    "print(70,80,60,40,100, \"test\")"
   ]
  },
  {
   "cell_type": "code",
   "execution_count": 7,
   "id": "cc9f5ec3",
   "metadata": {},
   "outputs": [
    {
     "name": "stdout",
     "output_type": "stream",
     "text": [
      "Output is: \n",
      "10\n",
      "70 80 60 40 100 test\n"
     ]
    }
   ],
   "source": [
    "def printInfo(arg1, *argList):\n",
    "    print(\"Output is: \",)\n",
    "    print(arg1)\n",
    "    for i in argList:\n",
    "        print(i)\n",
    "    return\n",
    "a=printInfo(10)\n",
    "print(70,80,60,40,100, \"test\")"
   ]
  },
  {
   "cell_type": "code",
   "execution_count": 9,
   "id": "2cdc5923",
   "metadata": {},
   "outputs": [
    {
     "data": {
      "text/plain": [
       "23"
      ]
     },
     "execution_count": 9,
     "metadata": {},
     "output_type": "execute_result"
    }
   ],
   "source": [
    "def sum(a,b,c,d=5,e=6):\n",
    "    add=a+b+c+d+e\n",
    "    return add\n",
    "\n",
    "sum(5,4,3)\n"
   ]
  },
  {
   "cell_type": "code",
   "execution_count": 11,
   "id": "42a2f410",
   "metadata": {},
   "outputs": [],
   "source": [
    "def sum(a,b,c):\n",
    "    d=a+b+c\n",
    "    return d,a\n",
    "\n",
    "sum_total, a=sum(5,10,15)"
   ]
  },
  {
   "cell_type": "markdown",
   "id": "f72a0175",
   "metadata": {},
   "source": [
    "## lambda function"
   ]
  },
  {
   "cell_type": "code",
   "execution_count": 13,
   "id": "3f4086ed",
   "metadata": {},
   "outputs": [
    {
     "data": {
      "text/plain": [
       "60"
      ]
     },
     "execution_count": 13,
     "metadata": {},
     "output_type": "execute_result"
    }
   ],
   "source": [
    "sumThese = lambda arg1,arg2,arg3:arg1+arg2+arg3\n",
    "a=sumThese(10,20,30)\n",
    "a"
   ]
  },
  {
   "cell_type": "markdown",
   "id": "6f1f763a",
   "metadata": {},
   "source": [
    "# scope of variable"
   ]
  },
  {
   "cell_type": "code",
   "execution_count": 14,
   "id": "4ca5ddd4",
   "metadata": {},
   "outputs": [
    {
     "name": "stdout",
     "output_type": "stream",
     "text": [
      "Python is fantastic\n",
      "Python is awsome\n"
     ]
    }
   ],
   "source": [
    "x = \"awsome\"\n",
    "def myfunc():\n",
    "    x=\"fantastic\"\n",
    "    print(\"Python is \"+x)\n",
    "    \n",
    "myfunc()\n",
    "print(\"Python is \" + x)"
   ]
  },
  {
   "cell_type": "code",
   "execution_count": 15,
   "id": "c4c9fd51",
   "metadata": {},
   "outputs": [
    {
     "name": "stdout",
     "output_type": "stream",
     "text": [
      "Python is fantastic\n",
      "Python is fantastic\n"
     ]
    }
   ],
   "source": [
    "x = \"awsome\"\n",
    "def myfunc():\n",
    "    global x\n",
    "    x=\"fantastic\"\n",
    "    print(\"Python is \"+x)\n",
    "    \n",
    "myfunc()\n",
    "print(\"Python is \" + x)"
   ]
  },
  {
   "cell_type": "code",
   "execution_count": null,
   "id": "b50070a9",
   "metadata": {},
   "outputs": [],
   "source": []
  },
  {
   "cell_type": "code",
   "execution_count": null,
   "id": "a6833bc3",
   "metadata": {},
   "outputs": [],
   "source": []
  },
  {
   "cell_type": "code",
   "execution_count": null,
   "id": "1128e37f",
   "metadata": {},
   "outputs": [],
   "source": []
  },
  {
   "cell_type": "code",
   "execution_count": null,
   "id": "be5fdf3a",
   "metadata": {},
   "outputs": [],
   "source": []
  },
  {
   "cell_type": "code",
   "execution_count": null,
   "id": "34dcb00e",
   "metadata": {},
   "outputs": [],
   "source": []
  },
  {
   "cell_type": "code",
   "execution_count": null,
   "id": "e11dd2d1",
   "metadata": {},
   "outputs": [],
   "source": []
  },
  {
   "cell_type": "code",
   "execution_count": null,
   "id": "05de7186",
   "metadata": {},
   "outputs": [],
   "source": []
  },
  {
   "cell_type": "code",
   "execution_count": null,
   "id": "1d842a0e",
   "metadata": {},
   "outputs": [],
   "source": []
  },
  {
   "cell_type": "code",
   "execution_count": null,
   "id": "b3a17a12",
   "metadata": {},
   "outputs": [],
   "source": []
  },
  {
   "cell_type": "code",
   "execution_count": null,
   "id": "9286680b",
   "metadata": {},
   "outputs": [],
   "source": []
  },
  {
   "cell_type": "markdown",
   "id": "695732ca",
   "metadata": {},
   "source": [
    "## Lambda functions\n"
   ]
  },
  {
   "cell_type": "code",
   "execution_count": null,
   "id": "10413653",
   "metadata": {},
   "outputs": [],
   "source": [
    "lambda x:a+b+c"
   ]
  }
 ],
 "metadata": {
  "kernelspec": {
   "display_name": "Python 3 (ipykernel)",
   "language": "python",
   "name": "python3"
  },
  "language_info": {
   "codemirror_mode": {
    "name": "ipython",
    "version": 3
   },
   "file_extension": ".py",
   "mimetype": "text/x-python",
   "name": "python",
   "nbconvert_exporter": "python",
   "pygments_lexer": "ipython3",
   "version": "3.9.13"
  }
 },
 "nbformat": 4,
 "nbformat_minor": 5
}
