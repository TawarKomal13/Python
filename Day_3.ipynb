{
 "cells": [
  {
   "cell_type": "markdown",
   "id": "ab550d29",
   "metadata": {},
   "source": [
    "# Nasted for loop"
   ]
  },
  {
   "cell_type": "code",
   "execution_count": 2,
   "id": "2fae37fb",
   "metadata": {
    "scrolled": true
   },
   "outputs": [
    {
     "name": "stdout",
     "output_type": "stream",
     "text": [
      "1*1=1\n",
      "1*2=2\n",
      "1*3=3\n",
      "1*4=4\n",
      "1*5=5\n",
      "1*6=6\n",
      "1*7=7\n",
      "1*8=8\n",
      "1*9=9\n",
      "1*10=10\n",
      "2*1=2\n",
      "2*2=4\n",
      "2*3=6\n",
      "2*4=8\n",
      "2*5=10\n",
      "2*6=12\n",
      "2*7=14\n",
      "2*8=16\n",
      "2*9=18\n",
      "2*10=20\n",
      "3*1=3\n",
      "3*2=6\n",
      "3*3=9\n",
      "3*4=12\n",
      "3*5=15\n",
      "3*6=18\n",
      "3*7=21\n",
      "3*8=24\n",
      "3*9=27\n",
      "3*10=30\n",
      "4*1=4\n",
      "4*2=8\n",
      "4*3=12\n",
      "4*4=16\n",
      "4*5=20\n",
      "4*6=24\n",
      "4*7=28\n",
      "4*8=32\n",
      "4*9=36\n",
      "4*10=40\n",
      "5*1=5\n",
      "5*2=10\n",
      "5*3=15\n",
      "5*4=20\n",
      "5*5=25\n",
      "5*6=30\n",
      "5*7=35\n",
      "5*8=40\n",
      "5*9=45\n",
      "5*10=50\n",
      "6*1=6\n",
      "6*2=12\n",
      "6*3=18\n",
      "6*4=24\n",
      "6*5=30\n",
      "6*6=36\n",
      "6*7=42\n",
      "6*8=48\n",
      "6*9=54\n",
      "6*10=60\n",
      "7*1=7\n",
      "7*2=14\n",
      "7*3=21\n",
      "7*4=28\n",
      "7*5=35\n",
      "7*6=42\n",
      "7*7=49\n",
      "7*8=56\n",
      "7*9=63\n",
      "7*10=70\n",
      "8*1=8\n",
      "8*2=16\n",
      "8*3=24\n",
      "8*4=32\n",
      "8*5=40\n",
      "8*6=48\n",
      "8*7=56\n",
      "8*8=64\n",
      "8*9=72\n",
      "8*10=80\n",
      "9*1=9\n",
      "9*2=18\n",
      "9*3=27\n",
      "9*4=36\n",
      "9*5=45\n",
      "9*6=54\n",
      "9*7=63\n",
      "9*8=72\n",
      "9*9=81\n",
      "9*10=90\n",
      "10*1=10\n",
      "10*2=20\n",
      "10*3=30\n",
      "10*4=40\n",
      "10*5=50\n",
      "10*6=60\n",
      "10*7=70\n",
      "10*8=80\n",
      "10*9=90\n",
      "10*10=100\n"
     ]
    }
   ],
   "source": [
    "for x in range(1,11):\n",
    "    for y in range(1,11):\n",
    "        print('%d*%d=%d'%(x,y,x*y))"
   ]
  },
  {
   "cell_type": "markdown",
   "id": "7fcdfe8a",
   "metadata": {},
   "source": [
    "in the above program %d shows the placeholder for upcoming values of x and y as it contains numbers in case if it contain values as variable it will be like %s"
   ]
  },
  {
   "cell_type": "markdown",
   "id": "3c74555d",
   "metadata": {},
   "source": [
    "## break statement"
   ]
  },
  {
   "cell_type": "code",
   "execution_count": 3,
   "id": "9c3c7f28",
   "metadata": {},
   "outputs": [
    {
     "name": "stdout",
     "output_type": "stream",
     "text": [
      "s\n",
      "t\n",
      "r\n",
      "the end\n"
     ]
    }
   ],
   "source": [
    "for i in \"string\": \n",
    "    print(i)\n",
    "    if i == \"r\":\n",
    "        break\n",
    "print(\"the end\")"
   ]
  },
  {
   "cell_type": "markdown",
   "id": "aaa00381",
   "metadata": {},
   "source": [
    "## continue statement"
   ]
  },
  {
   "cell_type": "code",
   "execution_count": 6,
   "id": "b5caac61",
   "metadata": {},
   "outputs": [
    {
     "name": "stdout",
     "output_type": "stream",
     "text": [
      "s\n",
      "t\n",
      "r\n",
      "n\n",
      "g\n",
      "the end\n"
     ]
    }
   ],
   "source": [
    "for i in \"string\":\n",
    "    if i==\"i\":\n",
    "        continue\n",
    "    print(i)\n",
    "print(\"the end\")"
   ]
  },
  {
   "cell_type": "markdown",
   "id": "881367be",
   "metadata": {},
   "source": [
    "## file handling"
   ]
  },
  {
   "cell_type": "code",
   "execution_count": 7,
   "id": "6272aac4",
   "metadata": {},
   "outputs": [
    {
     "data": {
      "text/plain": [
       "'C:\\\\Users\\\\Admin\\\\DATA ANALYSIS'"
      ]
     },
     "execution_count": 7,
     "metadata": {},
     "output_type": "execute_result"
    }
   ],
   "source": [
    "import os\n",
    "os.getcwd()\n",
    "\n",
    "os.chdir(\"C:\\\\Users\\\\Admin\\\\DATA ANALYSIS\")\n",
    "os.chdir(\"C:/Users/Admin//DATA ANALYSIS\")\n",
    "os.getcwd()"
   ]
  },
  {
   "cell_type": "markdown",
   "id": "4c9f9f64",
   "metadata": {},
   "source": [
    "in file handling there are four methods read(r), write(w), x(edit), append(a)\n",
    "1. for different library commands are differet"
   ]
  },
  {
   "cell_type": "code",
   "execution_count": 10,
   "id": "53ff76e0",
   "metadata": {},
   "outputs": [],
   "source": [
    "f=open(\"demofile.txt\")"
   ]
  },
  {
   "cell_type": "code",
   "execution_count": 11,
   "id": "eaa6f841",
   "metadata": {},
   "outputs": [
    {
     "name": "stdout",
     "output_type": "stream",
     "text": [
      "abcd\n",
      "\n"
     ]
    }
   ],
   "source": [
    "print(f.readline())"
   ]
  },
  {
   "cell_type": "code",
   "execution_count": 12,
   "id": "383423a1",
   "metadata": {},
   "outputs": [],
   "source": [
    "f.close()"
   ]
  },
  {
   "cell_type": "code",
   "execution_count": 13,
   "id": "216e6c87",
   "metadata": {},
   "outputs": [
    {
     "name": "stdout",
     "output_type": "stream",
     "text": [
      "abcd\n",
      "\n"
     ]
    }
   ],
   "source": [
    "f = open(\"demofile.txt\")\n",
    "for i in f:\n",
    "    print(i)"
   ]
  },
  {
   "cell_type": "code",
   "execution_count": 14,
   "id": "f2db81f2",
   "metadata": {},
   "outputs": [],
   "source": [
    "f = open(\"demofile.txt\", \"a\")\n",
    "f.write(\"\\nArtificial Intelligence\")\n",
    "f.close()\n"
   ]
  },
  {
   "cell_type": "code",
   "execution_count": 16,
   "id": "c04c9623",
   "metadata": {},
   "outputs": [],
   "source": [
    "f = open(\"demofile.txt\", \"w\")\n",
    "f.write(\"AAI\")\n",
    "f.close()"
   ]
  },
  {
   "cell_type": "code",
   "execution_count": 18,
   "id": "2bfeee7f",
   "metadata": {},
   "outputs": [],
   "source": [
    "f = open(\"myfilesss.txt\", \"x\")\n"
   ]
  },
  {
   "cell_type": "code",
   "execution_count": 19,
   "id": "7d67d65c",
   "metadata": {},
   "outputs": [
    {
     "name": "stdout",
     "output_type": "stream",
     "text": [
      "[1, 2, 3, 4, 5, 6]\n"
     ]
    }
   ],
   "source": [
    "# concatination\n",
    "\n",
    "print([1,2,3]+[4,5,6])"
   ]
  },
  {
   "cell_type": "code",
   "execution_count": 20,
   "id": "ef9e97f2",
   "metadata": {},
   "outputs": [],
   "source": [
    "a=[1,2,3]\n",
    "b=[1,2,3]"
   ]
  },
  {
   "cell_type": "code",
   "execution_count": 21,
   "id": "952e38fa",
   "metadata": {},
   "outputs": [
    {
     "name": "stdout",
     "output_type": "stream",
     "text": [
      "[1, 2, 3, 1, 2, 3]\n"
     ]
    }
   ],
   "source": [
    "print(a+b)"
   ]
  },
  {
   "cell_type": "markdown",
   "id": "407ad01c",
   "metadata": {},
   "source": [
    "# Operations\n",
    "1. length\n",
    "2. concatinate\n",
    "3. repetition\n",
    "4. remove\n",
    "5. membership\n",
    "6. max/min\n",
    "7. count\n",
    "8. extend\n",
    "9. index\n",
    "10. pop\n",
    "11. remove\n",
    "12. reverse\n",
    "13. sort\n",
    "14. discard\n",
    "15. clear\n",
    "16. del"
   ]
  },
  {
   "cell_type": "code",
   "execution_count": 23,
   "id": "0442b5a6",
   "metadata": {},
   "outputs": [],
   "source": [
    "# repetition\n",
    "a=[\"hi!\"]*4"
   ]
  },
  {
   "cell_type": "code",
   "execution_count": 24,
   "id": "9d57a9eb",
   "metadata": {},
   "outputs": [
    {
     "data": {
      "text/plain": [
       "['hi!', 'hi!', 'hi!', 'hi!']"
      ]
     },
     "execution_count": 24,
     "metadata": {},
     "output_type": "execute_result"
    }
   ],
   "source": [
    "a"
   ]
  },
  {
   "cell_type": "code",
   "execution_count": 25,
   "id": "4827b37b",
   "metadata": {},
   "outputs": [],
   "source": [
    "a.remove(\"hi!\")"
   ]
  },
  {
   "cell_type": "code",
   "execution_count": 26,
   "id": "bfc6c29f",
   "metadata": {},
   "outputs": [
    {
     "data": {
      "text/plain": [
       "['hi!', 'hi!', 'hi!']"
      ]
     },
     "execution_count": 26,
     "metadata": {},
     "output_type": "execute_result"
    }
   ],
   "source": [
    "a"
   ]
  },
  {
   "cell_type": "code",
   "execution_count": 27,
   "id": "c83ea8ec",
   "metadata": {},
   "outputs": [
    {
     "name": "stdout",
     "output_type": "stream",
     "text": [
      "False\n"
     ]
    }
   ],
   "source": [
    "print(4 in [1,2,3])"
   ]
  },
  {
   "cell_type": "code",
   "execution_count": 28,
   "id": "7b995d62",
   "metadata": {},
   "outputs": [],
   "source": [
    "data1 = [1,2,3,[4,5,'str'],True,\"True\"]"
   ]
  },
  {
   "cell_type": "code",
   "execution_count": 29,
   "id": "8e0f2c91",
   "metadata": {},
   "outputs": [
    {
     "name": "stdout",
     "output_type": "stream",
     "text": [
      "1\n",
      "2\n",
      "3\n",
      "[4, 5, 'str']\n",
      "True\n",
      "True\n"
     ]
    }
   ],
   "source": [
    "for i in data1:\n",
    "    print(i)"
   ]
  },
  {
   "cell_type": "code",
   "execution_count": 30,
   "id": "4db5885c",
   "metadata": {},
   "outputs": [
    {
     "name": "stdout",
     "output_type": "stream",
     "text": [
      "7\n",
      "1\n"
     ]
    }
   ],
   "source": [
    "New_Data = [1,2,3,4,5,6,7]\n",
    "\n",
    "print(max(New_Data))\n",
    "print(min(New_Data))"
   ]
  },
  {
   "cell_type": "code",
   "execution_count": 31,
   "id": "6585bd46",
   "metadata": {},
   "outputs": [
    {
     "data": {
      "text/plain": [
       "2"
      ]
     },
     "execution_count": 31,
     "metadata": {},
     "output_type": "execute_result"
    }
   ],
   "source": [
    "alist = [123,\"xyz\", \"abc\", 123,\"xyz\"]\n",
    "alist.count(\"xyz\")"
   ]
  },
  {
   "cell_type": "code",
   "execution_count": 32,
   "id": "284c885e",
   "metadata": {},
   "outputs": [
    {
     "name": "stdout",
     "output_type": "stream",
     "text": [
      "Extended List:  [123, 'xyz', 'zaraabc', 123, 2009, 'bulls']\n"
     ]
    }
   ],
   "source": [
    "alist = [123,'xyz', \"zara\" 'abc', 123]\n",
    "blist = [2009, \"bulls\"]\n",
    "alist.extend(blist)\n",
    "print(\"Extended List: \", alist)"
   ]
  },
  {
   "cell_type": "code",
   "execution_count": 34,
   "id": "fe21707d",
   "metadata": {},
   "outputs": [
    {
     "data": {
      "text/plain": [
       "0"
      ]
     },
     "execution_count": 34,
     "metadata": {},
     "output_type": "execute_result"
    }
   ],
   "source": [
    "alist = [\"abc\",123, \"zara\", \"abc\", 123]\n",
    "alist.index(\"abc\")"
   ]
  },
  {
   "cell_type": "code",
   "execution_count": 35,
   "id": "73091191",
   "metadata": {},
   "outputs": [
    {
     "data": {
      "text/plain": [
       "[123, 'xyz', 'zara', 2009, 'abc']"
      ]
     },
     "execution_count": 35,
     "metadata": {},
     "output_type": "execute_result"
    }
   ],
   "source": [
    "alist = [123,\"xyz\",\"zara\", \"abc\"]\n",
    "alist.insert(3,2009)\n",
    "alist"
   ]
  },
  {
   "cell_type": "code",
   "execution_count": 36,
   "id": "a646a6ed",
   "metadata": {},
   "outputs": [
    {
     "data": {
      "text/plain": [
       "'abc'"
      ]
     },
     "execution_count": 36,
     "metadata": {},
     "output_type": "execute_result"
    }
   ],
   "source": [
    "alist = [123,\"xyz\",\"zara\", \"abc\"]\n",
    "alist.pop()"
   ]
  },
  {
   "cell_type": "code",
   "execution_count": 37,
   "id": "4d7f09ba",
   "metadata": {},
   "outputs": [
    {
     "data": {
      "text/plain": [
       "[123, 'xyz', 'zara']"
      ]
     },
     "execution_count": 37,
     "metadata": {},
     "output_type": "execute_result"
    }
   ],
   "source": [
    "alist"
   ]
  },
  {
   "cell_type": "code",
   "execution_count": 38,
   "id": "e75a39da",
   "metadata": {},
   "outputs": [
    {
     "data": {
      "text/plain": [
       "123"
      ]
     },
     "execution_count": 38,
     "metadata": {},
     "output_type": "execute_result"
    }
   ],
   "source": [
    "alist.pop(0)"
   ]
  },
  {
   "cell_type": "code",
   "execution_count": 39,
   "id": "25687d16",
   "metadata": {},
   "outputs": [
    {
     "data": {
      "text/plain": [
       "['xyz', 'zara']"
      ]
     },
     "execution_count": 39,
     "metadata": {},
     "output_type": "execute_result"
    }
   ],
   "source": [
    "alist"
   ]
  },
  {
   "cell_type": "code",
   "execution_count": 40,
   "id": "a05e22b8",
   "metadata": {},
   "outputs": [],
   "source": [
    "alist = [123,\"xyz\",\"zara\", \"abc\", \"xyz\"]\n",
    "alist.remove(\"xyz\")"
   ]
  },
  {
   "cell_type": "code",
   "execution_count": 41,
   "id": "40fa2c3b",
   "metadata": {},
   "outputs": [
    {
     "data": {
      "text/plain": [
       "[123, 'zara', 'abc', 'xyz']"
      ]
     },
     "execution_count": 41,
     "metadata": {},
     "output_type": "execute_result"
    }
   ],
   "source": [
    "alist"
   ]
  },
  {
   "cell_type": "code",
   "execution_count": 45,
   "id": "6bbfe59c",
   "metadata": {},
   "outputs": [
    {
     "ename": "TypeError",
     "evalue": "'i' is an invalid keyword argument for print()",
     "output_type": "error",
     "traceback": [
      "\u001b[1;31m---------------------------------------------------------------------------\u001b[0m",
      "\u001b[1;31mTypeError\u001b[0m                                 Traceback (most recent call last)",
      "\u001b[1;32m~\\AppData\\Local\\Temp\\ipykernel_3424\\506635148.py\u001b[0m in \u001b[0;36m<module>\u001b[1;34m\u001b[0m\n\u001b[0;32m      2\u001b[0m \u001b[1;31m# list1 = []\u001b[0m\u001b[1;33m\u001b[0m\u001b[1;33m\u001b[0m\u001b[0m\n\u001b[0;32m      3\u001b[0m \u001b[1;32mfor\u001b[0m \u001b[0mi\u001b[0m \u001b[1;32min\u001b[0m \u001b[0malist\u001b[0m\u001b[1;33m:\u001b[0m\u001b[1;33m\u001b[0m\u001b[1;33m\u001b[0m\u001b[0m\n\u001b[1;32m----> 4\u001b[1;33m     \u001b[0mprint\u001b[0m\u001b[1;33m(\u001b[0m\u001b[0mi\u001b[0m \u001b[1;33m=\u001b[0m \u001b[0malist\u001b[0m\u001b[1;33m.\u001b[0m\u001b[0mremove\u001b[0m\u001b[1;33m(\u001b[0m\u001b[1;34m\"xyz\"\u001b[0m\u001b[1;33m)\u001b[0m\u001b[1;33m)\u001b[0m\u001b[1;33m\u001b[0m\u001b[1;33m\u001b[0m\u001b[0m\n\u001b[0m\u001b[0;32m      5\u001b[0m \u001b[1;31m#     print(list1.append(list1))\u001b[0m\u001b[1;33m\u001b[0m\u001b[1;33m\u001b[0m\u001b[0m\n",
      "\u001b[1;31mTypeError\u001b[0m: 'i' is an invalid keyword argument for print()"
     ]
    }
   ],
   "source": [
    "alist = [123,\"xyz\",\"zara\", \"abc\", \"xyz\"]\n",
    "# list1 = []\n",
    "for i in alist:\n",
    "    print(i = alist.remove(\"xyz\"))\n",
    "#     print(list1.append(list1))"
   ]
  },
  {
   "cell_type": "code",
   "execution_count": 57,
   "id": "306e066f",
   "metadata": {},
   "outputs": [
    {
     "ename": "TypeError",
     "evalue": "'i' is an invalid keyword argument for print()",
     "output_type": "error",
     "traceback": [
      "\u001b[1;31m---------------------------------------------------------------------------\u001b[0m",
      "\u001b[1;31mTypeError\u001b[0m                                 Traceback (most recent call last)",
      "\u001b[1;32m~\\AppData\\Local\\Temp\\ipykernel_3424\\3275081615.py\u001b[0m in \u001b[0;36m<module>\u001b[1;34m\u001b[0m\n\u001b[0;32m      2\u001b[0m \u001b[0mlist1\u001b[0m \u001b[1;33m=\u001b[0m \u001b[1;33m[\u001b[0m\u001b[1;33m]\u001b[0m\u001b[1;33m\u001b[0m\u001b[1;33m\u001b[0m\u001b[0m\n\u001b[0;32m      3\u001b[0m \u001b[1;32mfor\u001b[0m \u001b[0mi\u001b[0m \u001b[1;32min\u001b[0m \u001b[0malist\u001b[0m\u001b[1;33m:\u001b[0m\u001b[1;33m\u001b[0m\u001b[1;33m\u001b[0m\u001b[0m\n\u001b[1;32m----> 4\u001b[1;33m     \u001b[0mprint\u001b[0m\u001b[1;33m(\u001b[0m\u001b[0mi\u001b[0m \u001b[1;33m=\u001b[0m \u001b[0malist\u001b[0m\u001b[1;33m.\u001b[0m\u001b[0mremove\u001b[0m\u001b[1;33m(\u001b[0m\u001b[1;34m\"xyz\"\u001b[0m\u001b[1;33m)\u001b[0m\u001b[1;33m)\u001b[0m\u001b[1;33m\u001b[0m\u001b[1;33m\u001b[0m\u001b[0m\n\u001b[0m\u001b[0;32m      5\u001b[0m \u001b[0mprint\u001b[0m\u001b[1;33m(\u001b[0m\u001b[0mlist1\u001b[0m\u001b[1;33m.\u001b[0m\u001b[0mappend\u001b[0m\u001b[1;33m(\u001b[0m\u001b[0mi\u001b[0m\u001b[1;33m)\u001b[0m\u001b[1;33m)\u001b[0m\u001b[1;33m\u001b[0m\u001b[1;33m\u001b[0m\u001b[0m\n",
      "\u001b[1;31mTypeError\u001b[0m: 'i' is an invalid keyword argument for print()"
     ]
    }
   ],
   "source": [
    "alist = [123,\"xyz\",\"zara\", \"abc\", \"xyz\"]\n",
    "list1 = []\n",
    "for i in alist:\n",
    "    print(i = alist.remove(\"xyz\"))\n",
    "print(list1.append(i))"
   ]
  },
  {
   "cell_type": "code",
   "execution_count": 56,
   "id": "0ea0df03",
   "metadata": {},
   "outputs": [
    {
     "name": "stdout",
     "output_type": "stream",
     "text": [
      "[123, 'zara', 'abc']\n"
     ]
    }
   ],
   "source": [
    "alist = [123,\"xyz\",\"zara\", \"abc\", \"xyz\"]\n",
    "list1 = []\n",
    "for i in alist:\n",
    "    if i!=\"xyz\":\n",
    "        list1.append(i)\n",
    "print(list1)"
   ]
  },
  {
   "cell_type": "code",
   "execution_count": 48,
   "id": "1620fc20",
   "metadata": {},
   "outputs": [
    {
     "data": {
      "text/plain": [
       "[123, 'xyz', 'zara', 'abc', 'xyz']"
      ]
     },
     "execution_count": 48,
     "metadata": {},
     "output_type": "execute_result"
    }
   ],
   "source": [
    "alist"
   ]
  },
  {
   "cell_type": "code",
   "execution_count": 59,
   "id": "4e06f48c",
   "metadata": {},
   "outputs": [
    {
     "data": {
      "text/plain": [
       "['biology', 'chemistry', 'english', 'french', 'maths', 'physics']"
      ]
     },
     "execution_count": 59,
     "metadata": {},
     "output_type": "execute_result"
    }
   ],
   "source": [
    "data = [\"english\", \"french\", \"maths\", \"physics\", \"chemistry\", \"biology\"]\n",
    "data.sort()\n",
    "data"
   ]
  },
  {
   "cell_type": "code",
   "execution_count": 60,
   "id": "95c79861",
   "metadata": {},
   "outputs": [
    {
     "data": {
      "text/plain": [
       "['biology', 'chemistry', 'english', 'french', 'maths', 'physics']"
      ]
     },
     "execution_count": 60,
     "metadata": {},
     "output_type": "execute_result"
    }
   ],
   "source": [
    "data"
   ]
  },
  {
   "cell_type": "code",
   "execution_count": 61,
   "id": "23c6ef44",
   "metadata": {},
   "outputs": [],
   "source": [
    "data.reverse()"
   ]
  },
  {
   "cell_type": "code",
   "execution_count": 62,
   "id": "8845031f",
   "metadata": {},
   "outputs": [
    {
     "data": {
      "text/plain": [
       "['physics', 'maths', 'french', 'english', 'chemistry', 'biology']"
      ]
     },
     "execution_count": 62,
     "metadata": {},
     "output_type": "execute_result"
    }
   ],
   "source": [
    "data"
   ]
  },
  {
   "cell_type": "code",
   "execution_count": 63,
   "id": "db9b0a60",
   "metadata": {},
   "outputs": [],
   "source": [
    "data.sort(reverse=True)"
   ]
  },
  {
   "cell_type": "code",
   "execution_count": 64,
   "id": "e82e97cf",
   "metadata": {},
   "outputs": [
    {
     "data": {
      "text/plain": [
       "['physics', 'maths', 'french', 'english', 'chemistry', 'biology']"
      ]
     },
     "execution_count": 64,
     "metadata": {},
     "output_type": "execute_result"
    }
   ],
   "source": [
    "data"
   ]
  },
  {
   "cell_type": "code",
   "execution_count": 65,
   "id": "ceec3bd3",
   "metadata": {},
   "outputs": [
    {
     "data": {
      "text/plain": [
       "tuple"
      ]
     },
     "execution_count": 65,
     "metadata": {},
     "output_type": "execute_result"
    }
   ],
   "source": [
    "planets = (\"Mercury\", \"Venus\", \"Earth\")\n",
    "type(planets)"
   ]
  },
  {
   "cell_type": "code",
   "execution_count": 66,
   "id": "827cc7f8",
   "metadata": {},
   "outputs": [
    {
     "data": {
      "text/plain": [
       "4"
      ]
     },
     "execution_count": 66,
     "metadata": {},
     "output_type": "execute_result"
    }
   ],
   "source": [
    "planets_dup = (\"mercury\", \"venus\", \"Earth\", \"mercury\")\n",
    "len(planets_dup)"
   ]
  },
  {
   "cell_type": "code",
   "execution_count": 67,
   "id": "bf40dfda",
   "metadata": {},
   "outputs": [],
   "source": [
    "mercury = (\"mercury\",1, True, \"nearest to sun\")"
   ]
  },
  {
   "cell_type": "code",
   "execution_count": 69,
   "id": "f3da04f0",
   "metadata": {},
   "outputs": [
    {
     "data": {
      "text/plain": [
       "(True,)"
      ]
     },
     "execution_count": 69,
     "metadata": {},
     "output_type": "execute_result"
    }
   ],
   "source": [
    "planets[0]\n",
    "planets[-1]\n",
    "planets[0:2]\n",
    "mercury[1:3]\n",
    "mercury[-2:]\n",
    "mercury[-2:-1]"
   ]
  },
  {
   "cell_type": "code",
   "execution_count": 70,
   "id": "3332b69f",
   "metadata": {},
   "outputs": [
    {
     "data": {
      "text/plain": [
       "'Earth'"
      ]
     },
     "execution_count": 70,
     "metadata": {},
     "output_type": "execute_result"
    }
   ],
   "source": [
    "planets[-1]"
   ]
  },
  {
   "cell_type": "code",
   "execution_count": 71,
   "id": "8d6a2cce",
   "metadata": {},
   "outputs": [
    {
     "data": {
      "text/plain": [
       "('Mercury', 'Venus')"
      ]
     },
     "execution_count": 71,
     "metadata": {},
     "output_type": "execute_result"
    }
   ],
   "source": [
    "planets[0:2]"
   ]
  },
  {
   "cell_type": "code",
   "execution_count": 72,
   "id": "5a0674a7",
   "metadata": {},
   "outputs": [
    {
     "data": {
      "text/plain": [
       "(1, True)"
      ]
     },
     "execution_count": 72,
     "metadata": {},
     "output_type": "execute_result"
    }
   ],
   "source": [
    "mercury[1:3]"
   ]
  },
  {
   "cell_type": "code",
   "execution_count": 73,
   "id": "f559ad5b",
   "metadata": {},
   "outputs": [
    {
     "data": {
      "text/plain": [
       "(True, 'nearest to sun')"
      ]
     },
     "execution_count": 73,
     "metadata": {},
     "output_type": "execute_result"
    }
   ],
   "source": [
    "mercury[-2:]"
   ]
  },
  {
   "cell_type": "code",
   "execution_count": 74,
   "id": "bc81d6d9",
   "metadata": {},
   "outputs": [
    {
     "data": {
      "text/plain": [
       "(True,)"
      ]
     },
     "execution_count": 74,
     "metadata": {},
     "output_type": "execute_result"
    }
   ],
   "source": [
    "mercury[-2:-1]"
   ]
  },
  {
   "cell_type": "code",
   "execution_count": 75,
   "id": "7361753e",
   "metadata": {},
   "outputs": [],
   "source": [
    "planet_new = planets + planets_dup"
   ]
  },
  {
   "cell_type": "code",
   "execution_count": 77,
   "id": "b3bfa60f",
   "metadata": {},
   "outputs": [
    {
     "name": "stdout",
     "output_type": "stream",
     "text": [
      "Mercury\n",
      "Venus\n",
      "Earth\n",
      "mercury\n",
      "venus\n",
      "Earth\n",
      "mercury\n"
     ]
    }
   ],
   "source": [
    "for i in planet_new:\n",
    "    print(i)"
   ]
  },
  {
   "cell_type": "code",
   "execution_count": 78,
   "id": "2655d295",
   "metadata": {},
   "outputs": [
    {
     "name": "stdout",
     "output_type": "stream",
     "text": [
      "{'Virat', 'Rohit', 'Dhoni'}\n"
     ]
    }
   ],
   "source": [
    "players = {\"Virat\", \"Rohit\", \"Dhoni\"}\n",
    "type(players)\n",
    "print(players)"
   ]
  },
  {
   "cell_type": "code",
   "execution_count": 79,
   "id": "087b0a16",
   "metadata": {},
   "outputs": [],
   "source": [
    "players = {\"Virat\", \"Rohit\", \"Dhoni\", \"Virat\"}\n"
   ]
  },
  {
   "cell_type": "code",
   "execution_count": 80,
   "id": "79871591",
   "metadata": {},
   "outputs": [
    {
     "data": {
      "text/plain": [
       "{'Dhoni', 'Rohit', 'Virat'}"
      ]
     },
     "execution_count": 80,
     "metadata": {},
     "output_type": "execute_result"
    }
   ],
   "source": [
    "players"
   ]
  },
  {
   "cell_type": "code",
   "execution_count": 81,
   "id": "3f70aeb2",
   "metadata": {},
   "outputs": [
    {
     "ename": "TypeError",
     "evalue": "'set' object does not support item assignment",
     "output_type": "error",
     "traceback": [
      "\u001b[1;31m---------------------------------------------------------------------------\u001b[0m",
      "\u001b[1;31mTypeError\u001b[0m                                 Traceback (most recent call last)",
      "\u001b[1;32m~\\AppData\\Local\\Temp\\ipykernel_3424\\1636811351.py\u001b[0m in \u001b[0;36m<module>\u001b[1;34m\u001b[0m\n\u001b[1;32m----> 1\u001b[1;33m \u001b[0mplayers\u001b[0m\u001b[1;33m[\u001b[0m\u001b[1;36m0\u001b[0m\u001b[1;33m]\u001b[0m\u001b[1;33m=\u001b[0m\u001b[1;34m\"KL Rahul\"\u001b[0m\u001b[1;33m\u001b[0m\u001b[1;33m\u001b[0m\u001b[0m\n\u001b[0m\u001b[0;32m      2\u001b[0m \u001b[0mplayers\u001b[0m\u001b[1;33m\u001b[0m\u001b[1;33m\u001b[0m\u001b[0m\n",
      "\u001b[1;31mTypeError\u001b[0m: 'set' object does not support item assignment"
     ]
    }
   ],
   "source": [
    "players[0]=\"KL Rahul\"\n",
    "players"
   ]
  },
  {
   "cell_type": "code",
   "execution_count": 84,
   "id": "ec419087",
   "metadata": {},
   "outputs": [
    {
     "data": {
      "text/plain": [
       "{'Dhoni', 'Raina', 'Rohit', 'virat'}"
      ]
     },
     "execution_count": 84,
     "metadata": {},
     "output_type": "execute_result"
    }
   ],
   "source": [
    "players = {\"virat\", \"Rohit\", \"Dhoni\", \"Raina\"}\n",
    "players"
   ]
  },
  {
   "cell_type": "code",
   "execution_count": 85,
   "id": "508ffd0f",
   "metadata": {},
   "outputs": [
    {
     "name": "stdout",
     "output_type": "stream",
     "text": [
      "True\n"
     ]
    }
   ],
   "source": [
    "print(\"virat\" in players)"
   ]
  },
  {
   "cell_type": "code",
   "execution_count": 86,
   "id": "1aeedab2",
   "metadata": {},
   "outputs": [
    {
     "data": {
      "text/plain": [
       "{'Dhoni', 'Raina', 'Rohit', 'raina', 'virat'}"
      ]
     },
     "execution_count": 86,
     "metadata": {},
     "output_type": "execute_result"
    }
   ],
   "source": [
    "players.add(\"raina\")\n",
    "players"
   ]
  },
  {
   "cell_type": "code",
   "execution_count": 87,
   "id": "e1ca7a55",
   "metadata": {},
   "outputs": [
    {
     "name": "stdout",
     "output_type": "stream",
     "text": [
      "{'virat', 'pant', 'Raina', 'Rohit'}\n"
     ]
    }
   ],
   "source": [
    "players = {\"virat\", \"Rohit\",\"pant\", \"Raina\"}\n",
    "print(players)"
   ]
  },
  {
   "cell_type": "code",
   "execution_count": 88,
   "id": "1d62fcc2",
   "metadata": {},
   "outputs": [],
   "source": [
    "players.remove(\"Raina\")"
   ]
  },
  {
   "cell_type": "code",
   "execution_count": 89,
   "id": "9a51f9e3",
   "metadata": {},
   "outputs": [
    {
     "name": "stdout",
     "output_type": "stream",
     "text": [
      "{'virat', 'pant', 'Rohit'}\n"
     ]
    }
   ],
   "source": [
    "print(players)"
   ]
  },
  {
   "cell_type": "code",
   "execution_count": 90,
   "id": "3ee0c229",
   "metadata": {},
   "outputs": [
    {
     "data": {
      "text/plain": [
       "{'Dhoni', 'Raina', 'Rohit', 'virat'}"
      ]
     },
     "execution_count": 90,
     "metadata": {},
     "output_type": "execute_result"
    }
   ],
   "source": [
    "players = {\"virat\",\"Rohit\",\"Dhoni\",\"Raina\"}\n",
    "players.discard('raina')\n",
    "players"
   ]
  },
  {
   "cell_type": "code",
   "execution_count": 91,
   "id": "e967ab90",
   "metadata": {},
   "outputs": [
    {
     "data": {
      "text/plain": [
       "'virat'"
      ]
     },
     "execution_count": 91,
     "metadata": {},
     "output_type": "execute_result"
    }
   ],
   "source": [
    "players.pop()"
   ]
  },
  {
   "cell_type": "code",
   "execution_count": 92,
   "id": "126c8400",
   "metadata": {},
   "outputs": [
    {
     "data": {
      "text/plain": [
       "{'Dhoni', 'Raina', 'Rohit'}"
      ]
     },
     "execution_count": 92,
     "metadata": {},
     "output_type": "execute_result"
    }
   ],
   "source": [
    "players"
   ]
  },
  {
   "cell_type": "code",
   "execution_count": 93,
   "id": "4045191f",
   "metadata": {},
   "outputs": [],
   "source": [
    "players.clear()"
   ]
  },
  {
   "cell_type": "code",
   "execution_count": 94,
   "id": "fda5e5e9",
   "metadata": {},
   "outputs": [
    {
     "data": {
      "text/plain": [
       "set()"
      ]
     },
     "execution_count": 94,
     "metadata": {},
     "output_type": "execute_result"
    }
   ],
   "source": [
    "players"
   ]
  },
  {
   "cell_type": "code",
   "execution_count": 95,
   "id": "23bbf0fe",
   "metadata": {},
   "outputs": [],
   "source": [
    "del players"
   ]
  },
  {
   "cell_type": "code",
   "execution_count": 96,
   "id": "695db5fe",
   "metadata": {},
   "outputs": [],
   "source": [
    "phone = {\"brand\":\"onepls\",\"model\":\"9R\",\"year\":2021,\"ram\":\"12GB\"}\n"
   ]
  },
  {
   "cell_type": "code",
   "execution_count": 97,
   "id": "596cbe45",
   "metadata": {},
   "outputs": [
    {
     "data": {
      "text/plain": [
       "dict"
      ]
     },
     "execution_count": 97,
     "metadata": {},
     "output_type": "execute_result"
    }
   ],
   "source": [
    "type(phone)"
   ]
  },
  {
   "cell_type": "code",
   "execution_count": 98,
   "id": "397b7c3f",
   "metadata": {},
   "outputs": [],
   "source": [
    "phones = {\"brand\":[\"oneplus\",\"Xiaomi\"],\"model\":[\"9R\",\"Poco x3\"], \"year\":[2021,2020]}"
   ]
  },
  {
   "cell_type": "code",
   "execution_count": 99,
   "id": "6898f3f9",
   "metadata": {},
   "outputs": [
    {
     "data": {
      "text/plain": [
       "dict"
      ]
     },
     "execution_count": 99,
     "metadata": {},
     "output_type": "execute_result"
    }
   ],
   "source": [
    "type(phones)"
   ]
  },
  {
   "cell_type": "code",
   "execution_count": 101,
   "id": "aaecae0c",
   "metadata": {},
   "outputs": [
    {
     "data": {
      "text/plain": [
       "['oneplus', 'Xiaomi']"
      ]
     },
     "execution_count": 101,
     "metadata": {},
     "output_type": "execute_result"
    }
   ],
   "source": [
    "phones[\"brand\"]"
   ]
  },
  {
   "cell_type": "code",
   "execution_count": 102,
   "id": "585bb96e",
   "metadata": {},
   "outputs": [
    {
     "data": {
      "text/plain": [
       "['9R', 'Poco x3']"
      ]
     },
     "execution_count": 102,
     "metadata": {},
     "output_type": "execute_result"
    }
   ],
   "source": [
    "phones[\"model\"]"
   ]
  },
  {
   "cell_type": "code",
   "execution_count": 103,
   "id": "e8eefb6f",
   "metadata": {},
   "outputs": [],
   "source": [
    "phone = {\"brand\":\"onepls\",\"model\":\"9R\",\"year\":2021,\"ram\":\"12GB\", \"year\":2023}\n"
   ]
  },
  {
   "cell_type": "code",
   "execution_count": 104,
   "id": "9bdc5c13",
   "metadata": {},
   "outputs": [
    {
     "data": {
      "text/plain": [
       "{'brand': 'onepls', 'model': '9R', 'year': 2023, 'ram': '12GB'}"
      ]
     },
     "execution_count": 104,
     "metadata": {},
     "output_type": "execute_result"
    }
   ],
   "source": [
    "phone"
   ]
  },
  {
   "cell_type": "code",
   "execution_count": 105,
   "id": "5810a39e",
   "metadata": {},
   "outputs": [],
   "source": [
    "all_phones = {\"brand\":\"One plus\", \"model\":[\"9R\",\"9\"], \"year\": 2021.0, \"Flagship\":True}"
   ]
  },
  {
   "cell_type": "code",
   "execution_count": 107,
   "id": "b7a4cee8",
   "metadata": {},
   "outputs": [
    {
     "data": {
      "text/plain": [
       "{'brand': 'One plus', 'model': ['9R', '9'], 'year': 2021.0, 'Flagship': True}"
      ]
     },
     "execution_count": 107,
     "metadata": {},
     "output_type": "execute_result"
    }
   ],
   "source": [
    "all_phones"
   ]
  },
  {
   "cell_type": "code",
   "execution_count": 108,
   "id": "000fa098",
   "metadata": {},
   "outputs": [
    {
     "data": {
      "text/plain": [
       "['9R', 'Poco x3']"
      ]
     },
     "execution_count": 108,
     "metadata": {},
     "output_type": "execute_result"
    }
   ],
   "source": [
    "phones[\"model\"]"
   ]
  },
  {
   "cell_type": "code",
   "execution_count": 109,
   "id": "3d46aea0",
   "metadata": {},
   "outputs": [
    {
     "data": {
      "text/plain": [
       "['9R', 'Poco x3']"
      ]
     },
     "execution_count": 109,
     "metadata": {},
     "output_type": "execute_result"
    }
   ],
   "source": [
    "phones.get(\"model\")"
   ]
  },
  {
   "cell_type": "code",
   "execution_count": 110,
   "id": "1bd3c974",
   "metadata": {},
   "outputs": [
    {
     "data": {
      "text/plain": [
       "dict_keys(['brand', 'model', 'year'])"
      ]
     },
     "execution_count": 110,
     "metadata": {},
     "output_type": "execute_result"
    }
   ],
   "source": [
    "phones.keys()"
   ]
  },
  {
   "cell_type": "code",
   "execution_count": 111,
   "id": "12bffd36",
   "metadata": {},
   "outputs": [
    {
     "data": {
      "text/plain": [
       "dict_values([['oneplus', 'Xiaomi'], ['9R', 'Poco x3'], [2021, 2020]])"
      ]
     },
     "execution_count": 111,
     "metadata": {},
     "output_type": "execute_result"
    }
   ],
   "source": [
    "phones.values()"
   ]
  },
  {
   "cell_type": "code",
   "execution_count": 113,
   "id": "f298e9d6",
   "metadata": {},
   "outputs": [
    {
     "data": {
      "text/plain": [
       "dict_items([('brand', ['oneplus', 'Xiaomi']), ('model', ['9R', 'Poco x3']), ('year', [2021, 2020])])"
      ]
     },
     "execution_count": 113,
     "metadata": {},
     "output_type": "execute_result"
    }
   ],
   "source": [
    "phones.items()"
   ]
  },
  {
   "cell_type": "code",
   "execution_count": 114,
   "id": "4c148bd9",
   "metadata": {},
   "outputs": [],
   "source": [
    "\n",
    "phones[\"refresh_rate\"] = \"120Hz\"\n",
    "phones[\"model\"]=\"9 Pro\"\n",
    "phones[\"model\"]=[\"9R\", \"9 pro\"] \n",
    "    \n",
    "phones.update({\"brand\":[\"Apple\",\"oneplus\"]})"
   ]
  },
  {
   "cell_type": "code",
   "execution_count": 115,
   "id": "bd35a4a5",
   "metadata": {},
   "outputs": [
    {
     "name": "stdout",
     "output_type": "stream",
     "text": [
      "Brand is present\n"
     ]
    }
   ],
   "source": [
    "    \n",
    "if \"brand\" in phones:\n",
    "    print(\"Brand is present\")\n",
    "else:\n",
    "    print(\"Brand is not present\")"
   ]
  },
  {
   "cell_type": "code",
   "execution_count": 116,
   "id": "ba663742",
   "metadata": {},
   "outputs": [],
   "source": [
    "phones[\"brand_new\"] = phones[\"brand\"]\n",
    "del phones[\"brand\"]"
   ]
  },
  {
   "cell_type": "code",
   "execution_count": 117,
   "id": "39653d6f",
   "metadata": {},
   "outputs": [
    {
     "data": {
      "text/plain": [
       "{'model': ['9R', '9 pro'],\n",
       " 'year': [2021, 2020],\n",
       " 'refresh_rate': '120Hz',\n",
       " 'brand_new': ['Apple', 'oneplus']}"
      ]
     },
     "execution_count": 117,
     "metadata": {},
     "output_type": "execute_result"
    }
   ],
   "source": [
    "phones"
   ]
  },
  {
   "cell_type": "code",
   "execution_count": 118,
   "id": "d8e10e1b",
   "metadata": {},
   "outputs": [
    {
     "data": {
      "text/plain": [
       "{'model': ['9R', '9 pro'],\n",
       " 'year': [2021, 2020],\n",
       " 'refresh_rate': '120Hz',\n",
       " 'brand': ['Apple', 'oneplus']}"
      ]
     },
     "execution_count": 118,
     "metadata": {},
     "output_type": "execute_result"
    }
   ],
   "source": [
    "phones[\"brand\"] = phones.pop(\"brand_new\")\n",
    "phones"
   ]
  },
  {
   "cell_type": "code",
   "execution_count": 119,
   "id": "528d3ee0",
   "metadata": {},
   "outputs": [],
   "source": [
    "del phones[\"brand\"]"
   ]
  },
  {
   "cell_type": "code",
   "execution_count": 120,
   "id": "146b65cf",
   "metadata": {},
   "outputs": [],
   "source": [
    "del phones[\"model\"][0]"
   ]
  },
  {
   "cell_type": "code",
   "execution_count": 121,
   "id": "cea3b1dc",
   "metadata": {},
   "outputs": [
    {
     "data": {
      "text/plain": [
       "{'model': ['9 pro'], 'year': [2021, 2020], 'refresh_rate': '120Hz'}"
      ]
     },
     "execution_count": 121,
     "metadata": {},
     "output_type": "execute_result"
    }
   ],
   "source": [
    "phones"
   ]
  },
  {
   "cell_type": "code",
   "execution_count": 122,
   "id": "1872cf2b",
   "metadata": {},
   "outputs": [],
   "source": [
    "del phones"
   ]
  },
  {
   "cell_type": "code",
   "execution_count": 123,
   "id": "78f4ab74",
   "metadata": {},
   "outputs": [
    {
     "name": "stdout",
     "output_type": "stream",
     "text": [
      "brand\n",
      "model\n",
      "year\n",
      "Flagship\n"
     ]
    }
   ],
   "source": [
    "for i in all_phones:\n",
    "    print(i)"
   ]
  },
  {
   "cell_type": "code",
   "execution_count": 124,
   "id": "50c79e7b",
   "metadata": {},
   "outputs": [
    {
     "name": "stdout",
     "output_type": "stream",
     "text": [
      "One plus\n",
      "['9R', '9']\n",
      "2021.0\n",
      "True\n"
     ]
    }
   ],
   "source": [
    "for i in all_phones:\n",
    "    print(all_phones[i])"
   ]
  },
  {
   "cell_type": "code",
   "execution_count": 127,
   "id": "8ae71b33",
   "metadata": {},
   "outputs": [
    {
     "name": "stdout",
     "output_type": "stream",
     "text": [
      "brand : One plus\n",
      "model : ['9R', '9']\n",
      "year : 2021.0\n",
      "Flagship : True\n"
     ]
    }
   ],
   "source": [
    "for i, j in all_phones.items():\n",
    "    print(i,\":\",j)"
   ]
  },
  {
   "cell_type": "code",
   "execution_count": 1,
   "id": "97670cf6",
   "metadata": {},
   "outputs": [],
   "source": [
    "var1 = \" pyThon \"\n",
    "var2 = \"Programming\""
   ]
  },
  {
   "cell_type": "code",
   "execution_count": 4,
   "id": "be15c8bc",
   "metadata": {},
   "outputs": [
    {
     "data": {
      "text/plain": [
       "' p'"
      ]
     },
     "execution_count": 4,
     "metadata": {},
     "output_type": "execute_result"
    }
   ],
   "source": [
    "var1[0:2]"
   ]
  },
  {
   "cell_type": "code",
   "execution_count": 5,
   "id": "7efeb8ba",
   "metadata": {},
   "outputs": [
    {
     "data": {
      "text/plain": [
       "'n'"
      ]
     },
     "execution_count": 5,
     "metadata": {},
     "output_type": "execute_result"
    }
   ],
   "source": [
    "var1[-2]"
   ]
  },
  {
   "cell_type": "code",
   "execution_count": 7,
   "id": "0d184d30",
   "metadata": {},
   "outputs": [
    {
     "data": {
      "text/plain": [
       "' PYTHON '"
      ]
     },
     "execution_count": 7,
     "metadata": {},
     "output_type": "execute_result"
    }
   ],
   "source": [
    "var1.upper()"
   ]
  },
  {
   "cell_type": "code",
   "execution_count": 8,
   "id": "42feeef4",
   "metadata": {},
   "outputs": [
    {
     "data": {
      "text/plain": [
       "' python '"
      ]
     },
     "execution_count": 8,
     "metadata": {},
     "output_type": "execute_result"
    }
   ],
   "source": [
    "var1.lower()"
   ]
  },
  {
   "cell_type": "code",
   "execution_count": 10,
   "id": "dbb2076b",
   "metadata": {},
   "outputs": [
    {
     "data": {
      "text/plain": [
       "'Programming'"
      ]
     },
     "execution_count": 10,
     "metadata": {},
     "output_type": "execute_result"
    }
   ],
   "source": [
    "var2.capitalize()"
   ]
  },
  {
   "cell_type": "code",
   "execution_count": 13,
   "id": "32855051",
   "metadata": {},
   "outputs": [
    {
     "data": {
      "text/plain": [
       "'Crogramming'"
      ]
     },
     "execution_count": 13,
     "metadata": {},
     "output_type": "execute_result"
    }
   ],
   "source": [
    "var2 = var2.replace(\"P\",\"C\")\n",
    "var2"
   ]
  },
  {
   "cell_type": "code",
   "execution_count": 14,
   "id": "0832aea3",
   "metadata": {},
   "outputs": [
    {
     "data": {
      "text/plain": [
       "' pyThon'"
      ]
     },
     "execution_count": 14,
     "metadata": {},
     "output_type": "execute_result"
    }
   ],
   "source": [
    "var1.rstrip()"
   ]
  },
  {
   "cell_type": "code",
   "execution_count": 15,
   "id": "18ec5356",
   "metadata": {},
   "outputs": [
    {
     "data": {
      "text/plain": [
       "'pyThon '"
      ]
     },
     "execution_count": 15,
     "metadata": {},
     "output_type": "execute_result"
    }
   ],
   "source": [
    "var1.lstrip()"
   ]
  },
  {
   "cell_type": "markdown",
   "id": "fdc296a6",
   "metadata": {},
   "source": [
    "### tuple unpacking\n",
    "(key, value) ==> items"
   ]
  },
  {
   "cell_type": "code",
   "execution_count": null,
   "id": "46a31290",
   "metadata": {},
   "outputs": [],
   "source": []
  }
 ],
 "metadata": {
  "kernelspec": {
   "display_name": "Python 3 (ipykernel)",
   "language": "python",
   "name": "python3"
  },
  "language_info": {
   "codemirror_mode": {
    "name": "ipython",
    "version": 3
   },
   "file_extension": ".py",
   "mimetype": "text/x-python",
   "name": "python",
   "nbconvert_exporter": "python",
   "pygments_lexer": "ipython3",
   "version": "3.9.13"
  }
 },
 "nbformat": 4,
 "nbformat_minor": 5
}
